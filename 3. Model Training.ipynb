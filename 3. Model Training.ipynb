{
 "cells": [
  {
   "attachments": {},
   "cell_type": "markdown",
   "id": "92e48866",
   "metadata": {},
   "source": [
    "## Model Training"
   ]
  },
  {
   "cell_type": "markdown",
   "id": "25791a74",
   "metadata": {},
   "source": [
    "#### 1.1 Import Data and Required Packages\n",
    "##### Importing Pandas, Numpy, Matplotlib, Seaborn and Warings Library."
   ]
  },
  {
   "cell_type": "code",
   "execution_count": 1,
   "id": "b080dfb2",
   "metadata": {},
   "outputs": [],
   "source": [
    "# Basic Import\n",
    "import numpy as np\n",
    "import pandas as pd\n",
    "import matplotlib.pyplot as plt \n",
    "import seaborn as sns\n",
    "# Modelling\n",
    "from sklearn.metrics import mean_squared_error, r2_score\n",
    "from sklearn.neighbors import KNeighborsRegressor\n",
    "from sklearn.tree import DecisionTreeRegressor\n",
    "from sklearn.ensemble import RandomForestRegressor,AdaBoostRegressor\n",
    "from sklearn.svm import SVR\n",
    "from sklearn.linear_model import LinearRegression, Ridge,Lasso\n",
    "from sklearn.metrics import r2_score, mean_absolute_error, mean_squared_error\n",
    "from sklearn.model_selection import RandomizedSearchCV\n",
    "from catboost import CatBoostRegressor\n",
    "from xgboost import XGBRegressor\n",
    "from sklearn.neighbors import KNeighborsClassifier\n",
    "from sklearn.tree import DecisionTreeClassifier\n",
    "from sklearn.ensemble import RandomForestClassifier,AdaBoostClassifier, GradientBoostingClassifier\n",
    "from sklearn.svm import SVC\n",
    "from sklearn.linear_model import LogisticRegression\n",
    "from sklearn.metrics import f1_score, accuracy_score, roc_auc_score, precision_score, recall_score\n",
    "from sklearn.metrics import confusion_matrix, classification_report\n",
    "from sklearn.model_selection import RandomizedSearchCV\n",
    "from sklearn.neural_network import MLPClassifier\n",
    "from catboost import CatBoostClassifier\n",
    "from xgboost import XGBClassifier\n",
    "\n",
    "from sklearn.preprocessing import OneHotEncoder, StandardScaler, LabelEncoder\n",
    "from sklearn.compose import ColumnTransformer\n",
    "from sklearn.pipeline import Pipeline\n",
    "from sklearn.impute import SimpleImputer\n",
    "from sklearn import set_config\n",
    "set_config(transform_output = \"pandas\")\n",
    "\n",
    "import warnings\n",
    "warnings.filterwarnings('ignore')"
   ]
  },
  {
   "cell_type": "markdown",
   "id": "e45079ad",
   "metadata": {},
   "source": [
    "#### Import the CSV Data as Pandas DataFrame"
   ]
  },
  {
   "cell_type": "code",
   "execution_count": 2,
   "id": "e11c6255",
   "metadata": {},
   "outputs": [],
   "source": [
    "df = pd.read_csv('data/data.csv')"
   ]
  },
  {
   "cell_type": "markdown",
   "id": "20634923",
   "metadata": {},
   "source": [
    "#### Show Top 5 Records"
   ]
  },
  {
   "cell_type": "code",
   "execution_count": 3,
   "id": "e7e412a2",
   "metadata": {},
   "outputs": [
    {
     "data": {
      "text/html": [
       "<div>\n",
       "<style scoped>\n",
       "    .dataframe tbody tr th:only-of-type {\n",
       "        vertical-align: middle;\n",
       "    }\n",
       "\n",
       "    .dataframe tbody tr th {\n",
       "        vertical-align: top;\n",
       "    }\n",
       "\n",
       "    .dataframe thead th {\n",
       "        text-align: right;\n",
       "    }\n",
       "</style>\n",
       "<table border=\"1\" class=\"dataframe\">\n",
       "  <thead>\n",
       "    <tr style=\"text-align: right;\">\n",
       "      <th></th>\n",
       "      <th>year</th>\n",
       "      <th>country</th>\n",
       "      <th>precipitation</th>\n",
       "      <th>AvMeanSurAirTemp</th>\n",
       "      <th>AvMaxSurAirTemp</th>\n",
       "      <th>AvMinSurAirTemp</th>\n",
       "      <th>incidence</th>\n",
       "      <th>longitude</th>\n",
       "      <th>latitude</th>\n",
       "      <th>group</th>\n",
       "    </tr>\n",
       "  </thead>\n",
       "  <tbody>\n",
       "    <tr>\n",
       "      <th>0</th>\n",
       "      <td>2000</td>\n",
       "      <td>Congo</td>\n",
       "      <td>1644.79</td>\n",
       "      <td>24.49</td>\n",
       "      <td>29.03</td>\n",
       "      <td>19.99</td>\n",
       "      <td>353.41557</td>\n",
       "      <td>15.827659</td>\n",
       "      <td>-0.228021</td>\n",
       "      <td>high incidence</td>\n",
       "    </tr>\n",
       "    <tr>\n",
       "      <th>1</th>\n",
       "      <td>2001</td>\n",
       "      <td>Congo</td>\n",
       "      <td>1516.01</td>\n",
       "      <td>24.68</td>\n",
       "      <td>29.22</td>\n",
       "      <td>20.19</td>\n",
       "      <td>350.93625</td>\n",
       "      <td>15.827659</td>\n",
       "      <td>-0.228021</td>\n",
       "      <td>high incidence</td>\n",
       "    </tr>\n",
       "    <tr>\n",
       "      <th>2</th>\n",
       "      <td>2002</td>\n",
       "      <td>Congo</td>\n",
       "      <td>1717.96</td>\n",
       "      <td>24.76</td>\n",
       "      <td>29.30</td>\n",
       "      <td>20.26</td>\n",
       "      <td>321.67402</td>\n",
       "      <td>15.827659</td>\n",
       "      <td>-0.228021</td>\n",
       "      <td>high incidence</td>\n",
       "    </tr>\n",
       "    <tr>\n",
       "      <th>3</th>\n",
       "      <td>2003</td>\n",
       "      <td>Congo</td>\n",
       "      <td>1573.98</td>\n",
       "      <td>24.73</td>\n",
       "      <td>29.27</td>\n",
       "      <td>20.23</td>\n",
       "      <td>319.21132</td>\n",
       "      <td>15.827659</td>\n",
       "      <td>-0.228021</td>\n",
       "      <td>high incidence</td>\n",
       "    </tr>\n",
       "    <tr>\n",
       "      <th>4</th>\n",
       "      <td>2004</td>\n",
       "      <td>Congo</td>\n",
       "      <td>1507.59</td>\n",
       "      <td>24.83</td>\n",
       "      <td>29.37</td>\n",
       "      <td>20.33</td>\n",
       "      <td>317.81208</td>\n",
       "      <td>15.827659</td>\n",
       "      <td>-0.228021</td>\n",
       "      <td>high incidence</td>\n",
       "    </tr>\n",
       "  </tbody>\n",
       "</table>\n",
       "</div>"
      ],
      "text/plain": [
       "   year country  precipitation  AvMeanSurAirTemp  AvMaxSurAirTemp  \\\n",
       "0  2000   Congo        1644.79             24.49            29.03   \n",
       "1  2001   Congo        1516.01             24.68            29.22   \n",
       "2  2002   Congo        1717.96             24.76            29.30   \n",
       "3  2003   Congo        1573.98             24.73            29.27   \n",
       "4  2004   Congo        1507.59             24.83            29.37   \n",
       "\n",
       "   AvMinSurAirTemp  incidence  longitude  latitude           group  \n",
       "0            19.99  353.41557  15.827659 -0.228021  high incidence  \n",
       "1            20.19  350.93625  15.827659 -0.228021  high incidence  \n",
       "2            20.26  321.67402  15.827659 -0.228021  high incidence  \n",
       "3            20.23  319.21132  15.827659 -0.228021  high incidence  \n",
       "4            20.33  317.81208  15.827659 -0.228021  high incidence  "
      ]
     },
     "execution_count": 3,
     "metadata": {},
     "output_type": "execute_result"
    }
   ],
   "source": [
    "df.head()"
   ]
  },
  {
   "cell_type": "markdown",
   "id": "fbd32281",
   "metadata": {},
   "source": [
    "#### Preparing X and Y variables"
   ]
  },
  {
   "cell_type": "code",
   "execution_count": 4,
   "id": "56d72fde",
   "metadata": {},
   "outputs": [],
   "source": [
    "X = df.drop(columns=['incidence', 'group'],axis=1)"
   ]
  },
  {
   "cell_type": "code",
   "execution_count": 5,
   "id": "cd613177",
   "metadata": {},
   "outputs": [
    {
     "data": {
      "text/html": [
       "<div>\n",
       "<style scoped>\n",
       "    .dataframe tbody tr th:only-of-type {\n",
       "        vertical-align: middle;\n",
       "    }\n",
       "\n",
       "    .dataframe tbody tr th {\n",
       "        vertical-align: top;\n",
       "    }\n",
       "\n",
       "    .dataframe thead th {\n",
       "        text-align: right;\n",
       "    }\n",
       "</style>\n",
       "<table border=\"1\" class=\"dataframe\">\n",
       "  <thead>\n",
       "    <tr style=\"text-align: right;\">\n",
       "      <th></th>\n",
       "      <th>year</th>\n",
       "      <th>country</th>\n",
       "      <th>precipitation</th>\n",
       "      <th>AvMeanSurAirTemp</th>\n",
       "      <th>AvMaxSurAirTemp</th>\n",
       "      <th>AvMinSurAirTemp</th>\n",
       "      <th>longitude</th>\n",
       "      <th>latitude</th>\n",
       "    </tr>\n",
       "  </thead>\n",
       "  <tbody>\n",
       "    <tr>\n",
       "      <th>0</th>\n",
       "      <td>2000</td>\n",
       "      <td>Congo</td>\n",
       "      <td>1644.79</td>\n",
       "      <td>24.49</td>\n",
       "      <td>29.03</td>\n",
       "      <td>19.99</td>\n",
       "      <td>15.827659</td>\n",
       "      <td>-0.228021</td>\n",
       "    </tr>\n",
       "    <tr>\n",
       "      <th>1</th>\n",
       "      <td>2001</td>\n",
       "      <td>Congo</td>\n",
       "      <td>1516.01</td>\n",
       "      <td>24.68</td>\n",
       "      <td>29.22</td>\n",
       "      <td>20.19</td>\n",
       "      <td>15.827659</td>\n",
       "      <td>-0.228021</td>\n",
       "    </tr>\n",
       "    <tr>\n",
       "      <th>2</th>\n",
       "      <td>2002</td>\n",
       "      <td>Congo</td>\n",
       "      <td>1717.96</td>\n",
       "      <td>24.76</td>\n",
       "      <td>29.30</td>\n",
       "      <td>20.26</td>\n",
       "      <td>15.827659</td>\n",
       "      <td>-0.228021</td>\n",
       "    </tr>\n",
       "    <tr>\n",
       "      <th>3</th>\n",
       "      <td>2003</td>\n",
       "      <td>Congo</td>\n",
       "      <td>1573.98</td>\n",
       "      <td>24.73</td>\n",
       "      <td>29.27</td>\n",
       "      <td>20.23</td>\n",
       "      <td>15.827659</td>\n",
       "      <td>-0.228021</td>\n",
       "    </tr>\n",
       "    <tr>\n",
       "      <th>4</th>\n",
       "      <td>2004</td>\n",
       "      <td>Congo</td>\n",
       "      <td>1507.59</td>\n",
       "      <td>24.83</td>\n",
       "      <td>29.37</td>\n",
       "      <td>20.33</td>\n",
       "      <td>15.827659</td>\n",
       "      <td>-0.228021</td>\n",
       "    </tr>\n",
       "  </tbody>\n",
       "</table>\n",
       "</div>"
      ],
      "text/plain": [
       "   year country  precipitation  AvMeanSurAirTemp  AvMaxSurAirTemp  \\\n",
       "0  2000   Congo        1644.79             24.49            29.03   \n",
       "1  2001   Congo        1516.01             24.68            29.22   \n",
       "2  2002   Congo        1717.96             24.76            29.30   \n",
       "3  2003   Congo        1573.98             24.73            29.27   \n",
       "4  2004   Congo        1507.59             24.83            29.37   \n",
       "\n",
       "   AvMinSurAirTemp  longitude  latitude  \n",
       "0            19.99  15.827659 -0.228021  \n",
       "1            20.19  15.827659 -0.228021  \n",
       "2            20.26  15.827659 -0.228021  \n",
       "3            20.23  15.827659 -0.228021  \n",
       "4            20.33  15.827659 -0.228021  "
      ]
     },
     "execution_count": 5,
     "metadata": {},
     "output_type": "execute_result"
    }
   ],
   "source": [
    "X.head()"
   ]
  },
  {
   "cell_type": "code",
   "execution_count": 6,
   "id": "924b7f9d",
   "metadata": {},
   "outputs": [],
   "source": [
    "y1 = df['incidence']\n",
    "y2 = df[\"group\"]"
   ]
  },
  {
   "cell_type": "code",
   "execution_count": 7,
   "id": "ffc69816",
   "metadata": {},
   "outputs": [
    {
     "data": {
      "text/plain": [
       "0       353.41557\n",
       "1       350.93625\n",
       "2       321.67402\n",
       "3       319.21132\n",
       "4       317.81208\n",
       "          ...    \n",
       "2063      0.38608\n",
       "2064      0.27837\n",
       "2065      0.18801\n",
       "2066      0.09468\n",
       "2067      0.11231\n",
       "Name: incidence, Length: 2068, dtype: float64"
      ]
     },
     "execution_count": 7,
     "metadata": {},
     "output_type": "execute_result"
    }
   ],
   "source": [
    "y1"
   ]
  },
  {
   "cell_type": "code",
   "execution_count": 8,
   "id": "7d08dc5f-19fd-4e73-b1d8-4b924dc8fbb3",
   "metadata": {},
   "outputs": [
    {
     "data": {
      "text/plain": [
       "0       high incidence\n",
       "1       high incidence\n",
       "2       high incidence\n",
       "3       high incidence\n",
       "4       high incidence\n",
       "             ...      \n",
       "2063     low incidence\n",
       "2064     low incidence\n",
       "2065     low incidence\n",
       "2066     low incidence\n",
       "2067     low incidence\n",
       "Name: group, Length: 2068, dtype: object"
      ]
     },
     "execution_count": 8,
     "metadata": {},
     "output_type": "execute_result"
    }
   ],
   "source": [
    "y2"
   ]
  },
  {
   "cell_type": "code",
   "execution_count": 9,
   "id": "1e290fe3",
   "metadata": {},
   "outputs": [],
   "source": [
    "# Create Column Transformer with 3 types of transformers\n",
    "num_features = X.select_dtypes(exclude=\"object\").columns\n",
    "cat_features = X.select_dtypes(include=\"object\").columns\n",
    "num_pipeline= Pipeline(\n",
    "    steps=[\n",
    "    (\"imputer\",SimpleImputer(strategy=\"median\")),\n",
    "    (\"scaler\",StandardScaler())\n",
    "    ]\n",
    ")\n",
    "cat_pipeline=Pipeline(\n",
    "    steps=[\n",
    "    (\"imputer\",SimpleImputer(strategy=\"most_frequent\")),\n",
    "    (\"one_hot_encoder\",OneHotEncoder(sparse_output = False)),\n",
    "    (\"scaler\",StandardScaler(with_mean=False))\n",
    "    ]\n",
    ")\n",
    "preprocessor=ColumnTransformer(\n",
    "    [\n",
    "    (\"num_pipeline\",num_pipeline,num_features),\n",
    "    (\"cat_pipelines\",cat_pipeline,cat_features)\n",
    "    ]\n",
    ")\n",
    "X = preprocessor.fit_transform(X)"
   ]
  },
  {
   "cell_type": "markdown",
   "id": "bda5d1b4-0434-43b5-a20b-6e89be1a7061",
   "metadata": {},
   "source": [
    "## Regression"
   ]
  },
  {
   "cell_type": "code",
   "execution_count": 10,
   "id": "ed5c4e99",
   "metadata": {},
   "outputs": [
    {
     "data": {
      "text/plain": [
       "((1654, 104), (414, 104))"
      ]
     },
     "execution_count": 10,
     "metadata": {},
     "output_type": "execute_result"
    }
   ],
   "source": [
    "# separate dataset into train and test\n",
    "from sklearn.model_selection import train_test_split\n",
    "X_train, X_test, y_train, y_test = train_test_split(X,y1,test_size=0.2,random_state=42)\n",
    "X_train.shape, X_test.shape"
   ]
  },
  {
   "cell_type": "markdown",
   "id": "4cd80317",
   "metadata": {},
   "source": [
    "#### Create an Evaluate Function to give all metrics after model Training"
   ]
  },
  {
   "cell_type": "code",
   "execution_count": 11,
   "id": "8c247bd0",
   "metadata": {},
   "outputs": [],
   "source": [
    "def evaluate_model(true, predicted):\n",
    "    mae = mean_absolute_error(true, predicted)\n",
    "    mse = mean_squared_error(true, predicted)\n",
    "    rmse = np.sqrt(mean_squared_error(true, predicted))\n",
    "    r2_square = r2_score(true, predicted)\n",
    "    return mae, rmse, r2_square"
   ]
  },
  {
   "cell_type": "code",
   "execution_count": 12,
   "id": "79ccb8e7",
   "metadata": {},
   "outputs": [
    {
     "name": "stdout",
     "output_type": "stream",
     "text": [
      "Linear Regression\n",
      "Model performance for Training set\n",
      "- Root Mean Squared Error: 89.9354\n",
      "- Mean Absolute Error: 63.7017\n",
      "- R2 Score: 0.6675\n",
      "----------------------------------\n",
      "Model performance for Test set\n",
      "- Root Mean Squared Error: 98.7167\n",
      "- Mean Absolute Error: 69.5517\n",
      "- R2 Score: 0.5930\n",
      "===================================\n",
      "\n",
      "\n",
      "Lasso\n",
      "Model performance for Training set\n",
      "- Root Mean Squared Error: 48.6382\n",
      "- Mean Absolute Error: 31.3778\n",
      "- R2 Score: 0.9027\n",
      "----------------------------------\n",
      "Model performance for Test set\n",
      "- Root Mean Squared Error: 43.8692\n",
      "- Mean Absolute Error: 30.5788\n",
      "- R2 Score: 0.9196\n",
      "===================================\n",
      "\n",
      "\n",
      "Ridge\n",
      "Model performance for Training set\n",
      "- Root Mean Squared Error: 47.5788\n",
      "- Mean Absolute Error: 30.5469\n",
      "- R2 Score: 0.9069\n",
      "----------------------------------\n",
      "Model performance for Test set\n",
      "- Root Mean Squared Error: 43.1201\n",
      "- Mean Absolute Error: 30.4460\n",
      "- R2 Score: 0.9223\n",
      "===================================\n",
      "\n",
      "\n",
      "K-Neighbors Regressor\n",
      "Model performance for Training set\n",
      "- Root Mean Squared Error: 18.9474\n",
      "- Mean Absolute Error: 7.9042\n",
      "- R2 Score: 0.9852\n",
      "----------------------------------\n",
      "Model performance for Test set\n",
      "- Root Mean Squared Error: 24.9042\n",
      "- Mean Absolute Error: 11.6478\n",
      "- R2 Score: 0.9741\n",
      "===================================\n",
      "\n",
      "\n",
      "Decision Tree\n",
      "Model performance for Training set\n",
      "- Root Mean Squared Error: 0.0000\n",
      "- Mean Absolute Error: 0.0000\n",
      "- R2 Score: 1.0000\n",
      "----------------------------------\n",
      "Model performance for Test set\n",
      "- Root Mean Squared Error: 29.5852\n",
      "- Mean Absolute Error: 14.9077\n",
      "- R2 Score: 0.9634\n",
      "===================================\n",
      "\n",
      "\n",
      "Random Forest Regressor\n",
      "Model performance for Training set\n",
      "- Root Mean Squared Error: 10.9889\n",
      "- Mean Absolute Error: 5.3369\n",
      "- R2 Score: 0.9950\n",
      "----------------------------------\n",
      "Model performance for Test set\n",
      "- Root Mean Squared Error: 28.3829\n",
      "- Mean Absolute Error: 14.3602\n",
      "- R2 Score: 0.9664\n",
      "===================================\n",
      "\n",
      "\n",
      "XGBRegressor\n",
      "Model performance for Training set\n",
      "- Root Mean Squared Error: 5.7863\n",
      "- Mean Absolute Error: 3.5284\n",
      "- R2 Score: 0.9986\n",
      "----------------------------------\n",
      "Model performance for Test set\n",
      "- Root Mean Squared Error: 25.0044\n",
      "- Mean Absolute Error: 14.2786\n",
      "- R2 Score: 0.9739\n",
      "===================================\n",
      "\n",
      "\n",
      "CatBoosting Regressor\n",
      "Model performance for Training set\n",
      "- Root Mean Squared Error: 12.6137\n",
      "- Mean Absolute Error: 8.3631\n",
      "- R2 Score: 0.9935\n",
      "----------------------------------\n",
      "Model performance for Test set\n",
      "- Root Mean Squared Error: 23.2498\n",
      "- Mean Absolute Error: 13.8650\n",
      "- R2 Score: 0.9774\n",
      "===================================\n",
      "\n",
      "\n",
      "AdaBoost Regressor\n",
      "Model performance for Training set\n",
      "- Root Mean Squared Error: 89.0393\n",
      "- Mean Absolute Error: 77.2568\n",
      "- R2 Score: 0.6741\n",
      "----------------------------------\n",
      "Model performance for Test set\n",
      "- Root Mean Squared Error: 95.2321\n",
      "- Mean Absolute Error: 83.7531\n",
      "- R2 Score: 0.6212\n",
      "===================================\n",
      "\n",
      "\n"
     ]
    }
   ],
   "source": [
    "models = {\n",
    "    \"Linear Regression\": LinearRegression(),\n",
    "    \"Lasso\": Lasso(),\n",
    "    \"Ridge\": Ridge(),\n",
    "    \"K-Neighbors Regressor\": KNeighborsRegressor(),\n",
    "    \"Decision Tree\": DecisionTreeRegressor(),\n",
    "    \"Random Forest Regressor\": RandomForestRegressor(),\n",
    "    \"XGBRegressor\": XGBRegressor(), \n",
    "    \"CatBoosting Regressor\": CatBoostRegressor(verbose=False),\n",
    "    \"AdaBoost Regressor\": AdaBoostRegressor()\n",
    "}\n",
    "model_list = []\n",
    "r2_list =[]\n",
    "\n",
    "for i in range(len(list(models))):\n",
    "    model = list(models.values())[i]\n",
    "    model.fit(X_train, y_train) # Train model\n",
    "\n",
    "    # Make predictions\n",
    "    y_train_pred = model.predict(X_train)\n",
    "    y_test_pred = model.predict(X_test)\n",
    "    \n",
    "    # Evaluate Train and Test dataset\n",
    "    model_train_mae , model_train_rmse, model_train_r2 = evaluate_model(y_train, y_train_pred)\n",
    "\n",
    "    model_test_mae , model_test_rmse, model_test_r2 = evaluate_model(y_test, y_test_pred)\n",
    "\n",
    "    \n",
    "    print(list(models.keys())[i])\n",
    "    model_list.append(list(models.keys())[i])\n",
    "    \n",
    "    print('Model performance for Training set')\n",
    "    print(\"- Root Mean Squared Error: {:.4f}\".format(model_train_rmse))\n",
    "    print(\"- Mean Absolute Error: {:.4f}\".format(model_train_mae))\n",
    "    print(\"- R2 Score: {:.4f}\".format(model_train_r2))\n",
    "\n",
    "    print('----------------------------------')\n",
    "    \n",
    "    print('Model performance for Test set')\n",
    "    print(\"- Root Mean Squared Error: {:.4f}\".format(model_test_rmse))\n",
    "    print(\"- Mean Absolute Error: {:.4f}\".format(model_test_mae))\n",
    "    print(\"- R2 Score: {:.4f}\".format(model_test_r2))\n",
    "    r2_list.append(model_test_r2)\n",
    "    \n",
    "    print('='*35)\n",
    "    print('\\n')"
   ]
  },
  {
   "cell_type": "markdown",
   "id": "06480b5a",
   "metadata": {},
   "source": [
    "### Results"
   ]
  },
  {
   "cell_type": "code",
   "execution_count": 13,
   "id": "e0159e5f",
   "metadata": {},
   "outputs": [
    {
     "data": {
      "text/html": [
       "<div>\n",
       "<style scoped>\n",
       "    .dataframe tbody tr th:only-of-type {\n",
       "        vertical-align: middle;\n",
       "    }\n",
       "\n",
       "    .dataframe tbody tr th {\n",
       "        vertical-align: top;\n",
       "    }\n",
       "\n",
       "    .dataframe thead th {\n",
       "        text-align: right;\n",
       "    }\n",
       "</style>\n",
       "<table border=\"1\" class=\"dataframe\">\n",
       "  <thead>\n",
       "    <tr style=\"text-align: right;\">\n",
       "      <th></th>\n",
       "      <th>Model Name</th>\n",
       "      <th>R2_Score</th>\n",
       "    </tr>\n",
       "  </thead>\n",
       "  <tbody>\n",
       "    <tr>\n",
       "      <th>7</th>\n",
       "      <td>CatBoosting Regressor</td>\n",
       "      <td>0.977423</td>\n",
       "    </tr>\n",
       "    <tr>\n",
       "      <th>3</th>\n",
       "      <td>K-Neighbors Regressor</td>\n",
       "      <td>0.974095</td>\n",
       "    </tr>\n",
       "    <tr>\n",
       "      <th>6</th>\n",
       "      <td>XGBRegressor</td>\n",
       "      <td>0.973886</td>\n",
       "    </tr>\n",
       "    <tr>\n",
       "      <th>5</th>\n",
       "      <td>Random Forest Regressor</td>\n",
       "      <td>0.966353</td>\n",
       "    </tr>\n",
       "    <tr>\n",
       "      <th>4</th>\n",
       "      <td>Decision Tree</td>\n",
       "      <td>0.963442</td>\n",
       "    </tr>\n",
       "    <tr>\n",
       "      <th>2</th>\n",
       "      <td>Ridge</td>\n",
       "      <td>0.922340</td>\n",
       "    </tr>\n",
       "    <tr>\n",
       "      <th>1</th>\n",
       "      <td>Lasso</td>\n",
       "      <td>0.919619</td>\n",
       "    </tr>\n",
       "    <tr>\n",
       "      <th>8</th>\n",
       "      <td>AdaBoost Regressor</td>\n",
       "      <td>0.621206</td>\n",
       "    </tr>\n",
       "    <tr>\n",
       "      <th>0</th>\n",
       "      <td>Linear Regression</td>\n",
       "      <td>0.592978</td>\n",
       "    </tr>\n",
       "  </tbody>\n",
       "</table>\n",
       "</div>"
      ],
      "text/plain": [
       "                Model Name  R2_Score\n",
       "7    CatBoosting Regressor  0.977423\n",
       "3    K-Neighbors Regressor  0.974095\n",
       "6             XGBRegressor  0.973886\n",
       "5  Random Forest Regressor  0.966353\n",
       "4            Decision Tree  0.963442\n",
       "2                    Ridge  0.922340\n",
       "1                    Lasso  0.919619\n",
       "8       AdaBoost Regressor  0.621206\n",
       "0        Linear Regression  0.592978"
      ]
     },
     "execution_count": 13,
     "metadata": {},
     "output_type": "execute_result"
    }
   ],
   "source": [
    "pd.DataFrame(list(zip(model_list, r2_list)), columns=['Model Name', 'R2_Score']).sort_values(by=[\"R2_Score\"],ascending=False)"
   ]
  },
  {
   "cell_type": "markdown",
   "id": "357a7c1c",
   "metadata": {},
   "source": [
    "## CatBoosting Regressor"
   ]
  },
  {
   "cell_type": "code",
   "execution_count": 14,
   "id": "9a6ad559",
   "metadata": {},
   "outputs": [
    {
     "name": "stdout",
     "output_type": "stream",
     "text": [
      " Accuracy of the model is 97.74\n"
     ]
    }
   ],
   "source": [
    "catboostmodel = CatBoostRegressor(verbose=False)\n",
    "catboostmodel = catboostmodel.fit(X_train, y_train)\n",
    "y_pred = catboostmodel.predict(X_test)\n",
    "score = r2_score(y_test, y_pred)*100\n",
    "print(\" Accuracy of the model is %.2f\" %score)"
   ]
  },
  {
   "cell_type": "markdown",
   "id": "1d31453e",
   "metadata": {},
   "source": [
    "### Plot y_pred and y_test"
   ]
  },
  {
   "cell_type": "code",
   "execution_count": 15,
   "id": "eb557b0a",
   "metadata": {},
   "outputs": [
    {
     "data": {
      "image/png": "[encoded data removed]",
      "text/plain": [
       "<Figure size 640x480 with 1 Axes>"
      ]
     },
     "metadata": {},
     "output_type": "display_data"
    }
   ],
   "source": [
    "plt.scatter(y_test,y_pred);\n",
    "plt.xlabel('Actual');\n",
    "plt.ylabel('Predicted');"
   ]
  },
  {
   "cell_type": "code",
   "execution_count": 16,
   "id": "1e707ec3",
   "metadata": {
    "scrolled": true
   },
   "outputs": [
    {
     "data": {
      "image/png": "[encoded data removed]",
      "text/plain": [
       "<Figure size 640x480 with 1 Axes>"
      ]
     },
     "metadata": {},
     "output_type": "display_data"
    }
   ],
   "source": [
    "sns.regplot(x=y_test,y=y_pred,ci=None,color ='red');"
   ]
  },
  {
   "cell_type": "markdown",
   "id": "79c2fe28",
   "metadata": {},
   "source": [
    "#### Difference between Actual and Predicted Values"
   ]
  },
  {
   "cell_type": "code",
   "execution_count": 17,
   "id": "7c9a8b48",
   "metadata": {},
   "outputs": [
    {
     "data": {
      "text/html": [
       "<div>\n",
       "<style scoped>\n",
       "    .dataframe tbody tr th:only-of-type {\n",
       "        vertical-align: middle;\n",
       "    }\n",
       "\n",
       "    .dataframe tbody tr th {\n",
       "        vertical-align: top;\n",
       "    }\n",
       "\n",
       "    .dataframe thead th {\n",
       "        text-align: right;\n",
       "    }\n",
       "</style>\n",
       "<table border=\"1\" class=\"dataframe\">\n",
       "  <thead>\n",
       "    <tr style=\"text-align: right;\">\n",
       "      <th></th>\n",
       "      <th>Actual Value</th>\n",
       "      <th>Predicted Value</th>\n",
       "      <th>Difference</th>\n",
       "    </tr>\n",
       "  </thead>\n",
       "  <tbody>\n",
       "    <tr>\n",
       "      <th>1956</th>\n",
       "      <td>142.09077</td>\n",
       "      <td>96.931326</td>\n",
       "      <td>45.159444</td>\n",
       "    </tr>\n",
       "    <tr>\n",
       "      <th>69</th>\n",
       "      <td>474.50930</td>\n",
       "      <td>471.550083</td>\n",
       "      <td>2.959217</td>\n",
       "    </tr>\n",
       "    <tr>\n",
       "      <th>1568</th>\n",
       "      <td>0.78262</td>\n",
       "      <td>16.639217</td>\n",
       "      <td>-15.856597</td>\n",
       "    </tr>\n",
       "    <tr>\n",
       "      <th>1630</th>\n",
       "      <td>0.00000</td>\n",
       "      <td>-6.589303</td>\n",
       "      <td>6.589303</td>\n",
       "    </tr>\n",
       "    <tr>\n",
       "      <th>2060</th>\n",
       "      <td>0.48590</td>\n",
       "      <td>2.880385</td>\n",
       "      <td>-2.394485</td>\n",
       "    </tr>\n",
       "    <tr>\n",
       "      <th>...</th>\n",
       "      <td>...</td>\n",
       "      <td>...</td>\n",
       "      <td>...</td>\n",
       "    </tr>\n",
       "    <tr>\n",
       "      <th>2020</th>\n",
       "      <td>359.09174</td>\n",
       "      <td>342.833341</td>\n",
       "      <td>16.258399</td>\n",
       "    </tr>\n",
       "    <tr>\n",
       "      <th>1801</th>\n",
       "      <td>0.09725</td>\n",
       "      <td>6.346420</td>\n",
       "      <td>-6.249170</td>\n",
       "    </tr>\n",
       "    <tr>\n",
       "      <th>1626</th>\n",
       "      <td>0.00000</td>\n",
       "      <td>-4.069746</td>\n",
       "      <td>4.069746</td>\n",
       "    </tr>\n",
       "    <tr>\n",
       "      <th>1995</th>\n",
       "      <td>0.19473</td>\n",
       "      <td>-0.063636</td>\n",
       "      <td>0.258366</td>\n",
       "    </tr>\n",
       "    <tr>\n",
       "      <th>175</th>\n",
       "      <td>6.56452</td>\n",
       "      <td>19.879325</td>\n",
       "      <td>-13.314805</td>\n",
       "    </tr>\n",
       "  </tbody>\n",
       "</table>\n",
       "<p>414 rows × 3 columns</p>\n",
       "</div>"
      ],
      "text/plain": [
       "      Actual Value  Predicted Value  Difference\n",
       "1956     142.09077        96.931326   45.159444\n",
       "69       474.50930       471.550083    2.959217\n",
       "1568       0.78262        16.639217  -15.856597\n",
       "1630       0.00000        -6.589303    6.589303\n",
       "2060       0.48590         2.880385   -2.394485\n",
       "...            ...              ...         ...\n",
       "2020     359.09174       342.833341   16.258399\n",
       "1801       0.09725         6.346420   -6.249170\n",
       "1626       0.00000        -4.069746    4.069746\n",
       "1995       0.19473        -0.063636    0.258366\n",
       "175        6.56452        19.879325  -13.314805\n",
       "\n",
       "[414 rows x 3 columns]"
      ]
     },
     "execution_count": 17,
     "metadata": {},
     "output_type": "execute_result"
    }
   ],
   "source": [
    "pred_df=pd.DataFrame({'Actual Value':y_test,'Predicted Value':y_pred,'Difference':y_test-y_pred})\n",
    "pred_df"
   ]
  },
  {
   "cell_type": "markdown",
   "id": "aa7d05da-f7fe-4d32-8bad-669a065917c5",
   "metadata": {},
   "source": [
    "## Classification"
   ]
  },
  {
   "cell_type": "code",
   "execution_count": 18,
   "id": "6d00cd4a-64a9-4cad-9629-e7dea8b3ef87",
   "metadata": {},
   "outputs": [],
   "source": [
    "classes = y2.unique()\n",
    "labeler = LabelEncoder()\n",
    "y2 = labeler.fit_transform(y2)\n",
    "reverse_encode = {labeler.transform([value])[0]:value for value in classes}"
   ]
  },
  {
   "cell_type": "code",
   "execution_count": 22,
   "id": "d19aaaf0-5ae7-4965-86c9-b4fdb566d33a",
   "metadata": {},
   "outputs": [
    {
     "data": {
      "text/plain": [
       "((1654, 104), (414, 104))"
      ]
     },
     "execution_count": 22,
     "metadata": {},
     "output_type": "execute_result"
    }
   ],
   "source": [
    "# separate dataset into train and test\n",
    "from sklearn.model_selection import train_test_split\n",
    "X_train, X_test, y_train, y_test = train_test_split(X,y2,test_size=0.2,random_state=42)\n",
    "X_train.shape, X_test.shape"
   ]
  },
  {
   "cell_type": "markdown",
   "id": "a17daf4b-f52c-4cbc-966a-04435a2096d4",
   "metadata": {},
   "source": [
    "#### Create an Evaluate Function to give all metrics after model Training"
   ]
  },
  {
   "cell_type": "code",
   "execution_count": 23,
   "id": "0226559f-2977-4f61-9f63-2a2ee8019b18",
   "metadata": {},
   "outputs": [],
   "source": [
    "def evaluate_model_classification(true, predicted, pos_label=1):\n",
    "    f1 = f1_score(true, predicted, pos_label=pos_label)\n",
    "    accuracy = accuracy_score(true, predicted)\n",
    "    roc_auc = roc_auc_score(true, predicted)\n",
    "    precision = precision_score(true, predicted, pos_label=pos_label)\n",
    "    recall = recall_score(true, predicted, pos_label=pos_label)\n",
    "    return f1, accuracy, roc_auc, precision, recall"
   ]
  },
  {
   "cell_type": "code",
   "execution_count": 24,
   "id": "b3fe6b13-efd7-4a7a-aa75-772f9a34969d",
   "metadata": {},
   "outputs": [
    {
     "name": "stdout",
     "output_type": "stream",
     "text": [
      "Random Forest\n",
      "Model performance for Training set\n",
      "- F1 Score: 1.0000\n",
      "- Accuracy Score: 1.0000\n",
      "- ROC_AUC Score: 1.0000\n",
      "- Precision Score: 1.0000\n",
      "- Recall Score: 1.0000\n",
      "----------------------------------\n",
      "Model performance for Test set\n",
      "- F1 Score: 0.9722\n",
      "- Accuracy Score: 0.9734\n",
      "- ROC_AUC Score: 0.9737\n",
      "- Precision Score: 0.9648\n",
      "- Recall Score: 0.9796\n",
      "===================================\n",
      "\n",
      "\n",
      "Decision Tree\n",
      "Model performance for Training set\n",
      "- F1 Score: 1.0000\n",
      "- Accuracy Score: 1.0000\n",
      "- ROC_AUC Score: 1.0000\n",
      "- Precision Score: 1.0000\n",
      "- Recall Score: 1.0000\n",
      "----------------------------------\n",
      "Model performance for Test set\n",
      "- F1 Score: 0.9720\n",
      "- Accuracy Score: 0.9734\n",
      "- ROC_AUC Score: 0.9735\n",
      "- Precision Score: 0.9695\n",
      "- Recall Score: 0.9745\n",
      "===================================\n",
      "\n",
      "\n",
      "Gradient Boosting\n",
      "Model performance for Training set\n",
      "- F1 Score: 0.9679\n",
      "- Accuracy Score: 0.9698\n",
      "- ROC_AUC Score: 0.9695\n",
      "- Precision Score: 0.9704\n",
      "- Recall Score: 0.9654\n",
      "----------------------------------\n",
      "Model performance for Test set\n",
      "- F1 Score: 0.9588\n",
      "- Accuracy Score: 0.9614\n",
      "- ROC_AUC Score: 0.9607\n",
      "- Precision Score: 0.9688\n",
      "- Recall Score: 0.9490\n",
      "===================================\n",
      "\n",
      "\n",
      "Logistic Regression\n",
      "Model performance for Training set\n",
      "- F1 Score: 0.9527\n",
      "- Accuracy Score: 0.9553\n",
      "- ROC_AUC Score: 0.9553\n",
      "- Precision Score: 0.9503\n",
      "- Recall Score: 0.9551\n",
      "----------------------------------\n",
      "Model performance for Test set\n",
      "- F1 Score: 0.9669\n",
      "- Accuracy Score: 0.9686\n",
      "- ROC_AUC Score: 0.9686\n",
      "- Precision Score: 0.9645\n",
      "- Recall Score: 0.9694\n",
      "===================================\n",
      "\n",
      "\n",
      "XGBClassifier\n",
      "Model performance for Training set\n",
      "- F1 Score: 1.0000\n",
      "- Accuracy Score: 1.0000\n",
      "- ROC_AUC Score: 1.0000\n",
      "- Precision Score: 1.0000\n",
      "- Recall Score: 1.0000\n",
      "----------------------------------\n",
      "Model performance for Test set\n",
      "- F1 Score: 0.9745\n",
      "- Accuracy Score: 0.9758\n",
      "- ROC_AUC Score: 0.9758\n",
      "- Precision Score: 0.9745\n",
      "- Recall Score: 0.9745\n",
      "===================================\n",
      "\n",
      "\n",
      "CatBoosting Classifier\n",
      "Model performance for Training set\n",
      "- F1 Score: 0.9942\n",
      "- Accuracy Score: 0.9946\n",
      "- ROC_AUC Score: 0.9946\n",
      "- Precision Score: 0.9936\n",
      "- Recall Score: 0.9949\n",
      "----------------------------------\n",
      "Model performance for Test set\n",
      "- F1 Score: 0.9722\n",
      "- Accuracy Score: 0.9734\n",
      "- ROC_AUC Score: 0.9737\n",
      "- Precision Score: 0.9648\n",
      "- Recall Score: 0.9796\n",
      "===================================\n",
      "\n",
      "\n",
      "AdaBoost Classifier\n",
      "Model performance for Training set\n",
      "- F1 Score: 0.9466\n",
      "- Accuracy Score: 0.9492\n",
      "- ROC_AUC Score: 0.9495\n",
      "- Precision Score: 0.9394\n",
      "- Recall Score: 0.9538\n",
      "----------------------------------\n",
      "Model performance for Test set\n",
      "- F1 Score: 0.9357\n",
      "- Accuracy Score: 0.9396\n",
      "- ROC_AUC Score: 0.9391\n",
      "- Precision Score: 0.9430\n",
      "- Recall Score: 0.9286\n",
      "===================================\n",
      "\n",
      "\n",
      "MLPClassifier\n",
      "Model performance for Training set\n",
      "- F1 Score: 0.9828\n",
      "- Accuracy Score: 0.9837\n",
      "- ROC_AUC Score: 0.9839\n",
      "- Precision Score: 0.9784\n",
      "- Recall Score: 0.9872\n",
      "----------------------------------\n",
      "Model performance for Test set\n",
      "- F1 Score: 0.9899\n",
      "- Accuracy Score: 0.9903\n",
      "- ROC_AUC Score: 0.9908\n",
      "- Precision Score: 0.9800\n",
      "- Recall Score: 1.0000\n",
      "===================================\n",
      "\n",
      "\n",
      "SVC\n",
      "Model performance for Training set\n",
      "- F1 Score: 0.9271\n",
      "- Accuracy Score: 0.9317\n",
      "- ROC_AUC Score: 0.9311\n",
      "- Precision Score: 0.9326\n",
      "- Recall Score: 0.9218\n",
      "----------------------------------\n",
      "Model performance for Test set\n",
      "- F1 Score: 0.9313\n",
      "- Accuracy Score: 0.9348\n",
      "- ROC_AUC Score: 0.9347\n",
      "- Precision Score: 0.9289\n",
      "- Recall Score: 0.9337\n",
      "===================================\n",
      "\n",
      "\n",
      "KNeighborsClassifier\n",
      "Model performance for Training set\n",
      "- F1 Score: 0.9757\n",
      "- Accuracy Score: 0.9770\n",
      "- ROC_AUC Score: 0.9772\n",
      "- Precision Score: 0.9720\n",
      "- Recall Score: 0.9795\n",
      "----------------------------------\n",
      "Model performance for Test set\n",
      "- F1 Score: 0.9747\n",
      "- Accuracy Score: 0.9758\n",
      "- ROC_AUC Score: 0.9763\n",
      "- Precision Score: 0.9650\n",
      "- Recall Score: 0.9847\n",
      "===================================\n",
      "\n",
      "\n"
     ]
    }
   ],
   "source": [
    "models = {\n",
    "          \"Random Forest\": RandomForestClassifier(random_state = 32),\n",
    "          \"Decision Tree\": DecisionTreeClassifier(random_state = 32),\n",
    "          \"Gradient Boosting\": GradientBoostingClassifier(random_state = 32),\n",
    "          \"Logistic Regression\": LogisticRegression(random_state = 32),\n",
    "          \"XGBClassifier\": XGBClassifier(random_state = 32),\n",
    "          \"CatBoosting Classifier\": CatBoostClassifier(random_state = 32,verbose=False),\n",
    "          \"AdaBoost Classifier\": AdaBoostClassifier(random_state = 32),\n",
    "          \"MLPClassifier\": MLPClassifier(random_state = 32, verbose=False),\n",
    "          \"SVC\": SVC(random_state = 32),\n",
    "          \"KNeighborsClassifier\": KNeighborsClassifier()\n",
    "         }\n",
    "\n",
    "model_list = []\n",
    "f1_list =[]\n",
    "\n",
    "for i in range(len(list(models))):\n",
    "    model = list(models.values())[i]\n",
    "    model.fit(X_train, y_train) # Train model\n",
    "\n",
    "    # Make predictions\n",
    "    y_train_pred = model.predict(X_train)\n",
    "    y_test_pred = model.predict(X_test)\n",
    "\n",
    "    # Evaluate Train and Test dataset\n",
    "    train_f1, train_accuracy, train_roc_auc, train_precision, train_recall = evaluate_model_classification(y_train, y_train_pred)\n",
    "\n",
    "    test_f1, test_accuracy, test_roc_auc, test_precision, test_recall = evaluate_model_classification(y_test, y_test_pred)\n",
    "\n",
    "\n",
    "    print(list(models.keys())[i])\n",
    "    model_list.append(list(models.keys())[i])\n",
    "    f1_list.append(test_f1)\n",
    "\n",
    "    print('Model performance for Training set')\n",
    "    print(\"- F1 Score: {:.4f}\".format(train_f1))\n",
    "    print(\"- Accuracy Score: {:.4f}\".format(train_accuracy))\n",
    "    print(\"- ROC_AUC Score: {:.4f}\".format(train_roc_auc))\n",
    "    print(\"- Precision Score: {:.4f}\".format(train_precision))\n",
    "    print(\"- Recall Score: {:.4f}\".format(train_recall))\n",
    "\n",
    "\n",
    "    print('----------------------------------')\n",
    "\n",
    "    print('Model performance for Test set')\n",
    "    print(\"- F1 Score: {:.4f}\".format(test_f1))\n",
    "    print(\"- Accuracy Score: {:.4f}\".format(test_accuracy))\n",
    "    print(\"- ROC_AUC Score: {:.4f}\".format(test_roc_auc))\n",
    "    print(\"- Precision Score: {:.4f}\".format(test_precision))\n",
    "    print(\"- Recall Score: {:.4f}\".format(test_recall))\n",
    "\n",
    "    print('='*35)\n",
    "    print('\\n')"
   ]
  },
  {
   "cell_type": "markdown",
   "id": "82d71526-31b0-4c81-a673-595f2c77146c",
   "metadata": {},
   "source": [
    "### Results"
   ]
  },
  {
   "cell_type": "code",
   "execution_count": 25,
   "id": "fc027170-56b6-4198-9593-beba5fe9053d",
   "metadata": {},
   "outputs": [
    {
     "data": {
      "text/html": [
       "<div>\n",
       "<style scoped>\n",
       "    .dataframe tbody tr th:only-of-type {\n",
       "        vertical-align: middle;\n",
       "    }\n",
       "\n",
       "    .dataframe tbody tr th {\n",
       "        vertical-align: top;\n",
       "    }\n",
       "\n",
       "    .dataframe thead th {\n",
       "        text-align: right;\n",
       "    }\n",
       "</style>\n",
       "<table border=\"1\" class=\"dataframe\">\n",
       "  <thead>\n",
       "    <tr style=\"text-align: right;\">\n",
       "      <th></th>\n",
       "      <th>Model Name</th>\n",
       "      <th>F1_Score</th>\n",
       "    </tr>\n",
       "  </thead>\n",
       "  <tbody>\n",
       "    <tr>\n",
       "      <th>7</th>\n",
       "      <td>MLPClassifier</td>\n",
       "      <td>0.989899</td>\n",
       "    </tr>\n",
       "    <tr>\n",
       "      <th>9</th>\n",
       "      <td>KNeighborsClassifier</td>\n",
       "      <td>0.974747</td>\n",
       "    </tr>\n",
       "    <tr>\n",
       "      <th>4</th>\n",
       "      <td>XGBClassifier</td>\n",
       "      <td>0.974490</td>\n",
       "    </tr>\n",
       "    <tr>\n",
       "      <th>0</th>\n",
       "      <td>Random Forest</td>\n",
       "      <td>0.972152</td>\n",
       "    </tr>\n",
       "    <tr>\n",
       "      <th>5</th>\n",
       "      <td>CatBoosting Classifier</td>\n",
       "      <td>0.972152</td>\n",
       "    </tr>\n",
       "    <tr>\n",
       "      <th>1</th>\n",
       "      <td>Decision Tree</td>\n",
       "      <td>0.972010</td>\n",
       "    </tr>\n",
       "    <tr>\n",
       "      <th>3</th>\n",
       "      <td>Logistic Regression</td>\n",
       "      <td>0.966921</td>\n",
       "    </tr>\n",
       "    <tr>\n",
       "      <th>2</th>\n",
       "      <td>Gradient Boosting</td>\n",
       "      <td>0.958763</td>\n",
       "    </tr>\n",
       "    <tr>\n",
       "      <th>6</th>\n",
       "      <td>AdaBoost Classifier</td>\n",
       "      <td>0.935733</td>\n",
       "    </tr>\n",
       "    <tr>\n",
       "      <th>8</th>\n",
       "      <td>SVC</td>\n",
       "      <td>0.931298</td>\n",
       "    </tr>\n",
       "  </tbody>\n",
       "</table>\n",
       "</div>"
      ],
      "text/plain": [
       "               Model Name  F1_Score\n",
       "7           MLPClassifier  0.989899\n",
       "9    KNeighborsClassifier  0.974747\n",
       "4           XGBClassifier  0.974490\n",
       "0           Random Forest  0.972152\n",
       "5  CatBoosting Classifier  0.972152\n",
       "1           Decision Tree  0.972010\n",
       "3     Logistic Regression  0.966921\n",
       "2       Gradient Boosting  0.958763\n",
       "6     AdaBoost Classifier  0.935733\n",
       "8                     SVC  0.931298"
      ]
     },
     "execution_count": 25,
     "metadata": {},
     "output_type": "execute_result"
    }
   ],
   "source": [
    "pd.DataFrame(list(zip(model_list, f1_list)), columns=['Model Name', 'F1_Score']).sort_values(by=[\"F1_Score\"],ascending=False)"
   ]
  },
  {
   "cell_type": "markdown",
   "id": "736b5684-f23f-40eb-9136-62bfcf4598ef",
   "metadata": {},
   "source": [
    "### MLPClassifier"
   ]
  },
  {
   "cell_type": "code",
   "execution_count": 26,
   "id": "24bf5500-b7c6-4ef1-86ae-880ae8f3d747",
   "metadata": {},
   "outputs": [
    {
     "name": "stdout",
     "output_type": "stream",
     "text": [
      " F1 Score of the model is 98.48\n"
     ]
    }
   ],
   "source": [
    "nn = MLPClassifier()\n",
    "nn = nn.fit(X_train, y_train)\n",
    "y_pred = nn.predict(X_test)\n",
    "score = f1_score(y_test, y_pred)*100\n",
    "print(\" F1 Score of the model is %.2f\" %score)"
   ]
  },
  {
   "cell_type": "markdown",
   "id": "be9b5698-044f-41f5-979b-d059da89cd70",
   "metadata": {},
   "source": [
    "### Confusion Matrix"
   ]
  },
  {
   "cell_type": "code",
   "execution_count": 27,
   "id": "3acf1fbc",
   "metadata": {},
   "outputs": [
    {
     "data": {
      "image/png": "[encoded data removed]",
      "text/plain": [
       "<Figure size 300x300 with 1 Axes>"
      ]
     },
     "metadata": {},
     "output_type": "display_data"
    }
   ],
   "source": [
    "def plot_conf_mat(y_test, y_preds):\n",
    "    \"\"\"\n",
    "    Plots a nice looking confusion matrix using Seaborn's heatmap()\n",
    "    \"\"\"\n",
    "    fig, ax = plt.subplots(figsize=(3, 3))\n",
    "    ax = sns.heatmap(confusion_matrix(y_test, y_preds),\n",
    "                     annot=True,\n",
    "                     cbar=False)\n",
    "    plt.xlabel(\"True label\")\n",
    "    plt.ylabel(\"Predicted label\")\n",
    "    \n",
    "    bottom, top = ax.get_ylim()\n",
    "    ax.set_ylim(bottom + 0.5, top - 0.5)\n",
    "    \n",
    "plot_conf_mat(y_test, y_pred)"
   ]
  },
  {
   "cell_type": "markdown",
   "id": "501da1a3-851c-4f0f-b1b9-54fe75161291",
   "metadata": {},
   "source": [
    "### Classification Report"
   ]
  },
  {
   "cell_type": "code",
   "execution_count": 31,
   "id": "ae9c3a97-259a-4a88-b05a-ba7f8f90f5d7",
   "metadata": {},
   "outputs": [
    {
     "name": "stdout",
     "output_type": "stream",
     "text": [
      "                precision    recall  f1-score   support\n",
      "\n",
      "high incidence       1.00      0.98      0.99       218\n",
      " low incidence       0.97      0.99      0.98       196\n",
      "\n",
      "      accuracy                           0.99       414\n",
      "     macro avg       0.99      0.99      0.99       414\n",
      "  weighted avg       0.99      0.99      0.99       414\n",
      "\n"
     ]
    }
   ],
   "source": [
    "target_names = [reverse_encode[y_test[0]], reverse_encode[1-y_test[0]]]\n",
    "print(classification_report(y_test, y_pred, target_names=target_names))"
   ]
  },
  {
   "cell_type": "markdown",
   "id": "00880d62-069c-4823-8176-564ad830d5a8",
   "metadata": {},
   "source": [
    "### Discussion\n",
    "The results for both classification and regression and both amazing. However, for the purpose of this project, we will try the following experiments:\n",
    "1. Effect of removing the country feature\n",
    "2. Effect of removing the year feature\n",
    "3. Effect of Scaling the Data\n",
    "4. Applying Feature Engineering or Not\n",
    "5. Applying Feature Selection or Not; And and Without Feature Engineering"
   ]
  }
 ],
 "metadata": {
  "kernelspec": {
   "display_name": "Python 3 (ipykernel)",
   "language": "python",
   "name": "python3"
  },
  "language_info": {
   "codemirror_mode": {
    "name": "ipython",
    "version": 3
   },
   "file_extension": ".py",
   "mimetype": "text/x-python",
   "name": "python",
   "nbconvert_exporter": "python",
   "pygments_lexer": "ipython3",
   "version": "3.11.8"
  }
 },
 "nbformat": 4,
 "nbformat_minor": 5
}
